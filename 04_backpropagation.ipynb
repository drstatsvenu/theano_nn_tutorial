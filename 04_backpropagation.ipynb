{
 "cells": [
  {
   "cell_type": "markdown",
   "metadata": {},
   "source": [
    "# Backpropagation\n",
    "```\n",
    "----------------------------------------------------------------------\n",
    "Filename : 04_backpropagation.ipynb\n",
    "Date     : 16th March, 2017\n",
    "Author   : Jaidev Deshpande\n",
    "Purpose  : Training multilayer perceptrons with error backpropagation.\n",
    "Libraries: Theano and its dependencies\n",
    "----------------------------------------------------------------------\n",
    "```"
   ]
  },
  {
   "cell_type": "code",
   "execution_count": null,
   "metadata": {
    "collapsed": false,
    "scrolled": true
   },
   "outputs": [],
   "source": [
    "from IPython.display import Image\n",
    "Image(\"mlp.png\", height=200, width=600)"
   ]
  },
  {
   "cell_type": "markdown",
   "metadata": {},
   "source": [
    "# Variables & Terminology\n",
    "* ## $W_{i}$ - weights of the $i$th layer\n",
    "* ## $B_{i}$ - biases of the $i$th layer\n",
    "* ## $L_{a}^{i}$ - _activation_ (Inner product of weights and inputs of previous layer) of the $i$th layer.\n",
    "* ## $L_{o}^{i}$ - _output_ of the $i$th layer. (This is $f(L_{a}^{i})$, where $f$ is the activation function)\n",
    "\n",
    "# MLP with one input, one hidden, one output layer\n",
    "* ## $X, y$ are the training samples\n",
    "* ## $\\mathbf{W_{1}}$ and $\\mathbf{W_{2}}$ are the weights for first (hidden) and the second (output) layer.\n",
    "* ## $\\mathbf{B_{1}}$ and $\\mathbf{B_{2}}$ are the biases for first (hidden) and the second (output) layer.\n",
    "* ## $L_{a}^{0} = L_{o}^{0}$, since the first (zeroth) layers is just the input.\n",
    "\n",
    "# Activations and outputs\n",
    "* ## $L_{a}^{1} = X\\mathbf{W_{1}} + \\mathbf{B_{1}}$\n",
    "* ## $L_{o}^{1} = \\frac{1}{1 + e^{-L_{a}^{1}}}$\n",
    "* ## $L_{a}^{2} = L_{o}^{1}\\mathbf{W_{2}} + \\mathbf{B_{2}}$\n",
    "* ## $L_{o}^{2} = \\frac{1}{1 + e^{-L_{a}^{2}}}$\n",
    "* ## Loss $E = \\frac{1}{2} \\sum_{S}(y - L_{o}^{2})^{2}$\n",
    "\n",
    "----\n",
    "Derivation of backpropagation learning rule:"
   ]
  },
  {
   "cell_type": "code",
   "execution_count": 1,
   "metadata": {
    "collapsed": false
   },
   "outputs": [
    {
     "data": {
      "image/jpeg": "[encoded data removed]",
      "text/html": [
       "\n",
       "        <iframe\n",
       "            width=\"400\"\n",
       "            height=\"300\"\n",
       "            src=\"https://www.youtube.com/embed/LOc_y67AzCA\"\n",
       "            frameborder=\"0\"\n",
       "            allowfullscreen\n",
       "        ></iframe>\n",
       "        "
      ],
      "text/plain": [
       "<IPython.lib.display.YouTubeVideo at 0x104859898>"
      ]
     },
     "execution_count": 1,
     "metadata": {},
     "output_type": "execute_result"
    }
   ],
   "source": [
    "from IPython.display import YouTubeVideo\n",
    "YouTubeVideo(\"LOc_y67AzCA\")"
   ]
  },
  {
   "cell_type": "code",
   "execution_count": null,
   "metadata": {
    "collapsed": true
   },
   "outputs": [],
   "source": [
    "import numpy as np\n",
    "from utils import backprop_decision_boundary, backprop_make_classification, backprop_make_moons\n",
    "from sklearn.metrics import accuracy_score\n",
    "from theano import tensor as T\n",
    "from theano import function, shared\n",
    "import matplotlib.pyplot as plt\n",
    "plt.style.use('ggplot')\n",
    "plt.rc('figure', figsize=(8, 6))\n",
    "%matplotlib inline"
   ]
  },
  {
   "cell_type": "code",
   "execution_count": null,
   "metadata": {
    "collapsed": false
   },
   "outputs": [],
   "source": [
    "x, y = T.dmatrices('xy')\n",
    "\n",
    "# weights and biases\n",
    "w1 = shared(np.random.rand(2, 3), name=\"w1\")\n",
    "b1 = shared(np.random.rand(1, 3), name=\"b1\")\n",
    "w2 = shared(np.random.rand(3, 2), name=\"w2\")\n",
    "b2 = shared(np.random.rand(1, 2), name=\"b2\")\n",
    "\n",
    "# layer activations\n",
    "l1_activation = T.dot(x, w1) + b1.repeat(x.shape[0], axis=0)\n",
    "l1_output = 1.0 / (1 + T.exp(-l1_activation))\n",
    "l2_activation = T.dot(l1_output, w2) + b2.repeat(l1_output.shape[0], axis=0)\n",
    "l2_output = 1.0 / (1 + T.exp(-l2_activation))\n",
    "\n",
    "# losses and gradients\n",
    "loss = 0.5 * T.sum((y - l2_output) ** 2)\n",
    "gw1, gb1, gw2, gb2 = T.grad(loss, [w1, b1, w2, b2])\n",
    "\n",
    "# functions\n",
    "alpha = 0.2\n",
    "predict = function([x], l2_output)\n",
    "train = function([x, y], loss, updates=[(w1, w1 - alpha * gw1), (b1, b1 - alpha * gb1),\n",
    "                                        (w2, w2 - alpha * gw2), (b2, b2 - alpha * gb2)])"
   ]
  },
  {
   "cell_type": "code",
   "execution_count": null,
   "metadata": {
    "collapsed": false
   },
   "outputs": [],
   "source": [
    "# make dummy data\n",
    "X, Y = backprop_make_classification()\n",
    "backprop_decision_boundary(predict, X, Y)\n",
    "y_hat = predict(X)\n",
    "print(\"Accuracy: \", accuracy_score(np.argmax(Y, axis=1), np.argmax(y_hat, axis=1)))"
   ]
  },
  {
   "cell_type": "code",
   "execution_count": null,
   "metadata": {
    "collapsed": false
   },
   "outputs": [],
   "source": [
    "for i in range(500):\n",
    "    l = train(X, Y)\n",
    "    if i % 100 == 0:\n",
    "        print(l)\n",
    "backprop_decision_boundary(predict, X, Y)\n",
    "y_hat = predict(X)\n",
    "print(\"Accuracy: \", accuracy_score(np.argmax(Y, axis=1), np.argmax(y_hat, axis=1)))"
   ]
  },
  {
   "cell_type": "markdown",
   "metadata": {},
   "source": [
    "# Exercise: Implement an MLP with two hidden layers, for the following dataset"
   ]
  },
  {
   "cell_type": "code",
   "execution_count": null,
   "metadata": {
    "collapsed": false
   },
   "outputs": [],
   "source": [
    "X, Y = backprop_make_moons()\n",
    "plt.scatter(X[:, 0], X[:, 1], c=np.argmax(Y, axis=1))"
   ]
  },
  {
   "cell_type": "markdown",
   "metadata": {},
   "source": [
    "### Hints:\n",
    "1. Use two hidden layers, one containing 3 and the other containing 4 neurons\n",
    "2. Use learning rate $\\alpha$ = 0.2\n",
    "3. Try to make the network converge in 1000 iterations "
   ]
  },
  {
   "cell_type": "code",
   "execution_count": null,
   "metadata": {
    "collapsed": true
   },
   "outputs": [],
   "source": [
    "# enter code here"
   ]
  },
  {
   "cell_type": "markdown",
   "metadata": {},
   "source": [
    "### Tips & Tricks for backprogation:\n",
    "[Efficient BackProp, LeCun et al](http://yann.lecun.com/exdb/publis/pdf/lecun-98b.pdf)"
   ]
  }
 ],
 "metadata": {
  "anaconda-cloud": {},
  "kernelspec": {
   "display_name": "Python [default]",
   "language": "python",
   "name": "python3"
  },
  "language_info": {
   "codemirror_mode": {
    "name": "ipython",
    "version": 3
   },
   "file_extension": ".py",
   "mimetype": "text/x-python",
   "name": "python",
   "nbconvert_exporter": "python",
   "pygments_lexer": "ipython3",
   "version": "3.5.2"
  }
 },
 "nbformat": 4,
 "nbformat_minor": 1
}
